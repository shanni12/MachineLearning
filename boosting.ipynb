{
 "cells": [
  {
   "cell_type": "code",
   "execution_count": 1,
   "id": "northern-armstrong",
   "metadata": {},
   "outputs": [
    {
     "data": {
      "text/plain": [
       "['alt.atheism',\n",
       " 'comp.graphics',\n",
       " 'comp.os.ms-windows.misc',\n",
       " 'comp.sys.ibm.pc.hardware',\n",
       " 'comp.sys.mac.hardware',\n",
       " 'comp.windows.x',\n",
       " 'misc.forsale',\n",
       " 'rec.autos',\n",
       " 'rec.motorcycles',\n",
       " 'rec.sport.baseball',\n",
       " 'rec.sport.hockey',\n",
       " 'sci.crypt',\n",
       " 'sci.electronics',\n",
       " 'sci.med',\n",
       " 'sci.space',\n",
       " 'soc.religion.christian',\n",
       " 'talk.politics.guns',\n",
       " 'talk.politics.mideast',\n",
       " 'talk.politics.misc',\n",
       " 'talk.religion.misc']"
      ]
     },
     "execution_count": 1,
     "metadata": {},
     "output_type": "execute_result"
    }
   ],
   "source": [
    "import numpy as np\n",
    "import pandas as pd\n",
    "import matplotlib.pyplot as plt\n",
    "import seaborn as sns; sns.set()\n",
    "from sklearn.datasets import fetch_20newsgroups\n",
    "data=fetch_20newsgroups()\n",
    "data.target_names"
   ]
  },
  {
   "cell_type": "code",
   "execution_count": 2,
   "id": "optical-eagle",
   "metadata": {},
   "outputs": [],
   "source": [
    "train=fetch_20newsgroups(subset='train',categories=data.target_names)\n",
    "test=fetch_20newsgroups(subset='test',categories=data.target_names)"
   ]
  },
  {
   "cell_type": "code",
   "execution_count": 3,
   "id": "cubic-trinity",
   "metadata": {},
   "outputs": [
    {
     "name": "stdout",
     "output_type": "stream",
     "text": [
      "11314\n"
     ]
    }
   ],
   "source": [
    "print(len(train.data))"
   ]
  },
  {
   "cell_type": "code",
   "execution_count": 4,
   "id": "weekly-appliance",
   "metadata": {},
   "outputs": [
    {
     "data": {
      "text/plain": [
       "(11314, 130107)"
      ]
     },
     "execution_count": 4,
     "metadata": {},
     "output_type": "execute_result"
    }
   ],
   "source": [
    "from sklearn.feature_extraction.text import CountVectorizer\n",
    "vector=CountVectorizer()\n",
    "X_train=vector.fit_transform(train.data)\n",
    "X_train.shape\n"
   ]
  },
  {
   "cell_type": "code",
   "execution_count": 5,
   "id": "skilled-sleeve",
   "metadata": {},
   "outputs": [
    {
     "data": {
      "text/plain": [
       "(11314, 130107)"
      ]
     },
     "execution_count": 5,
     "metadata": {},
     "output_type": "execute_result"
    }
   ],
   "source": [
    "from sklearn.feature_extraction.text import TfidfTransformer\n",
    "vectorizer=TfidfTransformer()\n",
    "X_train_tfidf=vectorizer.fit_transform(X_train)\n",
    "X_train_tfidf.shape\n"
   ]
  },
  {
   "cell_type": "code",
   "execution_count": 6,
   "id": "greenhouse-request",
   "metadata": {},
   "outputs": [
    {
     "name": "stdout",
     "output_type": "stream",
     "text": [
      "      Iter       Train Loss   Remaining Time \n",
      "         1           2.2026            6.38m\n",
      "         2           1.9756            6.45m\n",
      "         3           1.8175            6.29m\n",
      "         4           1.6981            6.15m\n",
      "         5           1.6015            6.05m\n",
      "         6           1.5209            5.94m\n",
      "         7           1.4467            5.78m\n",
      "         8           1.3820            5.62m\n",
      "         9           1.3284            5.47m\n",
      "        10           1.2775            5.32m\n",
      "        11           1.2335            5.19m\n",
      "        12           1.1908            5.08m\n",
      "        13           1.1541            4.95m\n",
      "        14           1.1201            4.81m\n",
      "        15           1.0865            4.66m\n",
      "        16           1.0553            4.52m\n",
      "        17           1.0270            4.38m\n",
      "        18           0.9993            4.24m\n",
      "        19           0.9744            4.10m\n",
      "        20           0.9482            3.96m\n",
      "        21           0.9265            3.82m\n",
      "        22           0.9068            3.69m\n",
      "        23           0.8851            3.55m\n",
      "        24           0.8665            3.42m\n",
      "        25           0.8480            3.28m\n",
      "        26           0.8290            3.15m\n",
      "        27           0.8109            3.01m\n",
      "        28           0.7949            2.88m\n",
      "        29           0.7790            2.75m\n",
      "        30           0.7659            2.62m\n",
      "        31           0.7512            2.48m\n",
      "        32           0.7392            2.35m\n",
      "        33           0.7268            2.22m\n",
      "        34           0.7130            2.09m\n",
      "        35           0.7002            1.96m\n",
      "        36           0.6884            1.83m\n",
      "        37           0.6772            1.70m\n",
      "        38           0.6657            1.57m\n",
      "        39           0.6542            1.44m\n",
      "        40           0.6424            1.31m\n",
      "        41           0.6321            1.18m\n",
      "        42           0.6231            1.04m\n",
      "        43           0.6141           54.83s\n",
      "        44           0.6053           46.98s\n",
      "        45           0.5967           39.14s\n",
      "        46           0.5880           31.31s\n",
      "        47           0.5797           23.47s\n",
      "        48           0.5712           15.65s\n",
      "        49           0.5635            7.82s\n",
      "        50           0.5561            0.00s\n"
     ]
    }
   ],
   "source": [
    "from sklearn.ensemble import GradientBoostingClassifier\n",
    "\n",
    "clf=GradientBoostingClassifier(n_estimators=50,verbose=2).fit(X_train_tfidf,train.target)"
   ]
  },
  {
   "cell_type": "code",
   "execution_count": 7,
   "id": "covered-daughter",
   "metadata": {},
   "outputs": [],
   "source": [
    "X_test=vector.transform(test.data)\n",
    "X_test_tfidf=vectorizer.transform(X_test)\n",
    "predicted= clf.predict(X_test_tfidf)"
   ]
  },
  {
   "cell_type": "code",
   "execution_count": 10,
   "id": "supported-touch",
   "metadata": {},
   "outputs": [
    {
     "name": "stdout",
     "output_type": "stream",
     "text": [
      "accuracy: 0.7385820499203399\n",
      "confusion matrix: [ 7  5  0 ...  9  6 15] [12 12  0 ...  9  3 15]\n",
      "                          precision    recall  f1-score   support\n",
      "\n",
      "             alt.atheism       0.80      0.63      0.71       319\n",
      "           comp.graphics       0.67      0.66      0.67       389\n",
      " comp.os.ms-windows.misc       0.70      0.68      0.69       394\n",
      "comp.sys.ibm.pc.hardware       0.62      0.72      0.67       392\n",
      "   comp.sys.mac.hardware       0.79      0.78      0.79       385\n",
      "          comp.windows.x       0.83      0.60      0.69       395\n",
      "            misc.forsale       0.81      0.84      0.83       390\n",
      "               rec.autos       0.86      0.72      0.78       396\n",
      "         rec.motorcycles       0.90      0.85      0.87       398\n",
      "      rec.sport.baseball       0.92      0.85      0.88       397\n",
      "        rec.sport.hockey       0.93      0.86      0.89       399\n",
      "               sci.crypt       0.89      0.81      0.85       396\n",
      "         sci.electronics       0.29      0.68      0.40       393\n",
      "                 sci.med       0.89      0.68      0.77       396\n",
      "               sci.space       0.87      0.82      0.85       394\n",
      "  soc.religion.christian       0.83      0.85      0.84       398\n",
      "      talk.politics.guns       0.65      0.78      0.71       364\n",
      "   talk.politics.mideast       0.96      0.74      0.83       376\n",
      "      talk.politics.misc       0.75      0.53      0.62       310\n",
      "      talk.religion.misc       0.62      0.54      0.58       251\n",
      "\n",
      "                accuracy                           0.74      7532\n",
      "               macro avg       0.78      0.73      0.75      7532\n",
      "            weighted avg       0.78      0.74      0.75      7532\n",
      "\n"
     ]
    }
   ],
   "source": [
    "from sklearn import metrics\n",
    "from sklearn.metrics import accuracy_score,confusion_matrix,classification_report\n",
    "print(\"accuracy:\",accuracy_score(test.target,predicted))\n",
    "print(\"confusion matrix:\",test.target,predicted)\n",
    "print(classification_report(test.target,predicted,target_names=test.target_names))"
   ]
  },
  {
   "cell_type": "code",
   "execution_count": null,
   "id": "operational-theology",
   "metadata": {},
   "outputs": [],
   "source": []
  },
  {
   "cell_type": "code",
   "execution_count": null,
   "id": "developmental-submission",
   "metadata": {},
   "outputs": [],
   "source": []
  },
  {
   "cell_type": "code",
   "execution_count": null,
   "id": "protected-banana",
   "metadata": {},
   "outputs": [],
   "source": []
  }
 ],
 "metadata": {
  "kernelspec": {
   "display_name": "Python 3",
   "language": "python",
   "name": "python3"
  },
  "language_info": {
   "codemirror_mode": {
    "name": "ipython",
    "version": 3
   },
   "file_extension": ".py",
   "mimetype": "text/x-python",
   "name": "python",
   "nbconvert_exporter": "python",
   "pygments_lexer": "ipython3",
   "version": "3.8.5"
  }
 },
 "nbformat": 4,
 "nbformat_minor": 5
}
