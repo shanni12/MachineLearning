{
 "cells": [
  {
   "cell_type": "code",
   "execution_count": 1,
   "id": "northern-armstrong",
   "metadata": {},
   "outputs": [
    {
     "data": {
      "text/plain": [
       "['alt.atheism',\n",
       " 'comp.graphics',\n",
       " 'comp.os.ms-windows.misc',\n",
       " 'comp.sys.ibm.pc.hardware',\n",
       " 'comp.sys.mac.hardware',\n",
       " 'comp.windows.x',\n",
       " 'misc.forsale',\n",
       " 'rec.autos',\n",
       " 'rec.motorcycles',\n",
       " 'rec.sport.baseball',\n",
       " 'rec.sport.hockey',\n",
       " 'sci.crypt',\n",
       " 'sci.electronics',\n",
       " 'sci.med',\n",
       " 'sci.space',\n",
       " 'soc.religion.christian',\n",
       " 'talk.politics.guns',\n",
       " 'talk.politics.mideast',\n",
       " 'talk.politics.misc',\n",
       " 'talk.religion.misc']"
      ]
     },
     "execution_count": 1,
     "metadata": {},
     "output_type": "execute_result"
    }
   ],
   "source": [
    "import numpy as np\n",
    "import pandas as pd\n",
    "import matplotlib.pyplot as plt\n",
    "import seaborn as sns; sns.set()\n",
    "from sklearn.datasets import fetch_20newsgroups\n",
    "data=fetch_20newsgroups()\n",
    "data.target_names"
   ]
  },
  {
   "cell_type": "code",
   "execution_count": 2,
   "id": "optical-eagle",
   "metadata": {},
   "outputs": [],
   "source": [
    "train=fetch_20newsgroups(subset='train',categories=data.target_names)\n",
    "test=fetch_20newsgroups(subset='test',categories=data.target_names)"
   ]
  },
  {
   "cell_type": "code",
   "execution_count": 3,
   "id": "cubic-trinity",
   "metadata": {},
   "outputs": [
    {
     "name": "stdout",
     "output_type": "stream",
     "text": [
      "11314\n"
     ]
    }
   ],
   "source": [
    "print(len(train.data))"
   ]
  },
  {
   "cell_type": "code",
   "execution_count": 4,
   "id": "weekly-appliance",
   "metadata": {},
   "outputs": [
    {
     "data": {
      "text/plain": [
       "(11314, 130107)"
      ]
     },
     "execution_count": 4,
     "metadata": {},
     "output_type": "execute_result"
    }
   ],
   "source": [
    "from sklearn.feature_extraction.text import CountVectorizer\n",
    "vector=CountVectorizer()\n",
    "X_train=vector.fit_transform(train.data)\n",
    "X_train.shape\n"
   ]
  },
  {
   "cell_type": "code",
   "execution_count": 5,
   "id": "skilled-sleeve",
   "metadata": {},
   "outputs": [
    {
     "data": {
      "text/plain": [
       "(11314, 130107)"
      ]
     },
     "execution_count": 5,
     "metadata": {},
     "output_type": "execute_result"
    }
   ],
   "source": [
    "from sklearn.feature_extraction.text import TfidfTransformer\n",
    "vectorizer=TfidfTransformer()\n",
    "X_train_tfidf=vectorizer.fit_transform(X_train)\n",
    "X_train_tfidf.shape\n"
   ]
  },
  {
   "cell_type": "code",
   "execution_count": 6,
   "id": "greenhouse-request",
   "metadata": {},
   "outputs": [
    {
     "name": "stdout",
     "output_type": "stream",
     "text": [
      "      Iter       Train Loss   Remaining Time \n",
      "         1           2.2026            6.69m\n",
      "         2           1.9756            6.49m\n",
      "         3           1.8175            6.32m\n",
      "         4           1.6980            6.17m\n",
      "         5           1.6014            6.05m\n",
      "         6           1.5211            5.92m\n",
      "         7           1.4468            5.79m\n",
      "         8           1.3821            5.65m\n",
      "         9           1.3284            5.51m\n",
      "        10           1.2773            5.39m\n",
      "        11           1.2324            5.26m\n",
      "        12           1.1904            5.12m\n",
      "        13           1.1540            4.98m\n",
      "        14           1.1184            4.86m\n",
      "        15           1.0861            4.73m\n",
      "        16           1.0549            4.60m\n",
      "        17           1.0259            4.46m\n",
      "        18           0.9985            4.33m\n",
      "        19           0.9755            4.19m\n",
      "        20           0.9503            4.06m\n",
      "        21           0.9267            3.93m\n",
      "        22           0.9074            3.79m\n",
      "        23           0.8870            3.66m\n",
      "        24           0.8692            3.52m\n",
      "        25           0.8469            3.39m\n",
      "        26           0.8300            3.25m\n",
      "        27           0.8120            3.11m\n",
      "        28           0.7948            2.97m\n",
      "        29           0.7800            2.84m\n",
      "        30           0.7654            2.70m\n",
      "        31           0.7525            2.56m\n",
      "        32           0.7389            2.43m\n",
      "        33           0.7255            2.29m\n",
      "        34           0.7111            2.16m\n",
      "        35           0.7001            2.02m\n",
      "        36           0.6889            1.89m\n",
      "        37           0.6772            1.75m\n",
      "        38           0.6654            1.62m\n",
      "        39           0.6528            1.49m\n",
      "        40           0.6435            1.35m\n",
      "        41           0.6327            1.22m\n",
      "        42           0.6230            1.08m\n",
      "        43           0.6138           56.96s\n",
      "        44           0.6058           48.83s\n",
      "        45           0.5975           40.70s\n",
      "        46           0.5901           32.56s\n",
      "        47           0.5809           24.43s\n",
      "        48           0.5733           16.29s\n",
      "        49           0.5649            8.14s\n",
      "        50           0.5575            0.00s\n"
     ]
    }
   ],
   "source": [
    "from sklearn.ensemble import GradientBoostingClassifier\n",
    "\n",
    "clf=GradientBoostingClassifier(n_estimators=50,verbose=2).fit(X_train_tfidf,train.target)"
   ]
  },
  {
   "cell_type": "code",
   "execution_count": 7,
   "id": "covered-daughter",
   "metadata": {},
   "outputs": [],
   "source": [
    "X_test=vector.transform(test.data)\n",
    "X_test_tfidf=vectorizer.transform(X_test)\n",
    "predicted= clf.predict(X_test_tfidf)"
   ]
  },
  {
   "cell_type": "code",
   "execution_count": 8,
   "id": "supported-touch",
   "metadata": {},
   "outputs": [
    {
     "name": "stdout",
     "output_type": "stream",
     "text": [
      "accuracy: 0.7399097185342538\n",
      "confusion matrix: [ 7  5  0 ...  9  6 15] [12 12  0 ...  9  3 15]\n",
      "                          precision    recall  f1-score   support\n",
      "\n",
      "             alt.atheism       0.80      0.63      0.70       319\n",
      "           comp.graphics       0.68      0.66      0.67       389\n",
      " comp.os.ms-windows.misc       0.70      0.68      0.69       394\n",
      "comp.sys.ibm.pc.hardware       0.63      0.71      0.67       392\n",
      "   comp.sys.mac.hardware       0.78      0.78      0.78       385\n",
      "          comp.windows.x       0.84      0.62      0.71       395\n",
      "            misc.forsale       0.82      0.84      0.83       390\n",
      "               rec.autos       0.87      0.72      0.79       396\n",
      "         rec.motorcycles       0.90      0.86      0.88       398\n",
      "      rec.sport.baseball       0.92      0.84      0.88       397\n",
      "        rec.sport.hockey       0.93      0.86      0.89       399\n",
      "               sci.crypt       0.90      0.81      0.85       396\n",
      "         sci.electronics       0.29      0.70      0.41       393\n",
      "                 sci.med       0.87      0.69      0.77       396\n",
      "               sci.space       0.87      0.82      0.84       394\n",
      "  soc.religion.christian       0.83      0.86      0.84       398\n",
      "      talk.politics.guns       0.66      0.79      0.72       364\n",
      "   talk.politics.mideast       0.96      0.73      0.83       376\n",
      "      talk.politics.misc       0.75      0.52      0.62       310\n",
      "      talk.religion.misc       0.60      0.54      0.57       251\n",
      "\n",
      "                accuracy                           0.74      7532\n",
      "               macro avg       0.78      0.73      0.75      7532\n",
      "            weighted avg       0.78      0.74      0.75      7532\n",
      "\n"
     ]
    }
   ],
   "source": [
    "from sklearn import metrics\n",
    "from sklearn.metrics import accuracy_score,confusion_matrix,classification_report\n",
    "print(\"accuracy:\",accuracy_score(test.target,predicted))\n",
    "print(\"confusion matrix:\",test.target,predicted)\n",
    "print(classification_report(test.target,predicted,target_names=test.target_names))"
   ]
  },
  {
   "cell_type": "code",
   "execution_count": 9,
   "id": "operational-theology",
   "metadata": {},
   "outputs": [
    {
     "name": "stderr",
     "output_type": "stream",
     "text": [
      "[nltk_data] Downloading package stopwords to /home/shanni/nltk_data...\n",
      "[nltk_data]   Package stopwords is already up-to-date!\n"
     ]
    },
    {
     "name": "stdout",
     "output_type": "stream",
     "text": [
      "      Iter       Train Loss   Remaining Time \n",
      "         1           2.1888            4.78m\n",
      "         2           1.9583            4.55m\n",
      "         3           1.8005            4.40m\n",
      "         4           1.6757            4.27m\n",
      "         5           1.5768            4.16m\n",
      "         6           1.4915            4.06m\n",
      "         7           1.4182            3.97m\n",
      "         8           1.3564            3.87m\n",
      "         9           1.2984            3.77m\n",
      "        10           1.2519            3.67m\n",
      "        11           1.2024            3.57m\n",
      "        12           1.1647            3.47m\n",
      "        13           1.1230            3.37m\n",
      "        14           1.0882            3.28m\n",
      "        15           1.0538            3.18m\n",
      "        16           1.0245            3.10m\n",
      "        17           0.9960            3.00m\n",
      "        18           0.9676            2.91m\n",
      "        19           0.9413            2.82m\n",
      "        20           0.9180            2.72m\n",
      "        21           0.8965            2.63m\n",
      "        22           0.8756            2.53m\n",
      "        23           0.8525            2.44m\n",
      "        24           0.8333            2.35m\n",
      "        25           0.8149            2.25m\n",
      "        26           0.7950            2.16m\n",
      "        27           0.7789            2.07m\n",
      "        28           0.7640            1.97m\n",
      "        29           0.7483            1.88m\n",
      "        30           0.7361            1.79m\n",
      "        31           0.7223            1.70m\n",
      "        32           0.7099            1.61m\n",
      "        33           0.6992            1.52m\n",
      "        34           0.6876            1.43m\n",
      "        35           0.6780            1.34m\n",
      "        36           0.6672            1.25m\n",
      "        37           0.6566            1.16m\n",
      "        38           0.6445            1.07m\n",
      "        39           0.6328           58.86s\n",
      "        40           0.6234           53.47s\n",
      "        41           0.6133           48.10s\n",
      "        42           0.6038           42.73s\n",
      "        43           0.5948           37.38s\n",
      "        44           0.5858           32.02s\n",
      "        45           0.5780           26.67s\n",
      "        46           0.5692           21.32s\n",
      "        47           0.5608           15.98s\n",
      "        48           0.5523           10.65s\n",
      "        49           0.5448            5.32s\n",
      "        50           0.5383            0.00s\n",
      "accuracy: 0.7415029208709506\n"
     ]
    }
   ],
   "source": [
    "import nltk\n",
    "nltk.download('stopwords')\n",
    "from sklearn.pipeline import Pipeline\n",
    "from nltk.stem.snowball import SnowballStemmer\n",
    "stemmer = SnowballStemmer(\"english\", ignore_stopwords=True)\n",
    "\n",
    "class StemmedCountVectorizer(CountVectorizer):\n",
    "    def build_analyzer(self):\n",
    "        analyzer = super(StemmedCountVectorizer, self).build_analyzer()\n",
    "        return lambda doc: ([stemmer.stem(w).lower() for w in analyzer(doc)])\n",
    "    \n",
    "stemmed_count_vect = StemmedCountVectorizer(stop_words='english')\n",
    "\n",
    "text_bgc_stemmed = Pipeline([('vect', stemmed_count_vect), ('tfidf', TfidfTransformer()), \n",
    "                             ('bgc',GradientBoostingClassifier(n_estimators=50,verbose=2))])\n",
    "\n",
    "text_bgc_stemmed = text_bgc_stemmed.fit(train.data, train.target)\n",
    "\n",
    "predicted_bgc_stemmed = text_bgc_stemmed.predict(test.data)\n",
    "print(\"accuracy:\",accuracy_score(test.target,predicted_bgc_stemmed))"
   ]
  },
  {
   "cell_type": "code",
   "execution_count": 10,
   "id": "developmental-submission",
   "metadata": {},
   "outputs": [
    {
     "name": "stderr",
     "output_type": "stream",
     "text": [
      "[nltk_data] Downloading package wordnet to /home/shanni/nltk_data...\n",
      "[nltk_data]   Package wordnet is already up-to-date!\n"
     ]
    },
    {
     "name": "stdout",
     "output_type": "stream",
     "text": [
      "      Iter       Train Loss   Remaining Time \n",
      "         1           2.1967            4.46m\n",
      "         2           1.9696            4.36m\n",
      "         3           1.8066            4.28m\n",
      "         4           1.6803            4.18m\n",
      "         5           1.5785            4.10m\n",
      "         6           1.4942            4.01m\n",
      "         7           1.4199            3.91m\n",
      "         8           1.3577            3.82m\n",
      "         9           1.3011            3.73m\n",
      "        10           1.2484            3.63m\n",
      "        11           1.2026            3.54m\n",
      "        12           1.1635            3.46m\n",
      "        13           1.1263            3.37m\n",
      "        14           1.0887            3.29m\n",
      "        15           1.0554            3.20m\n",
      "        16           1.0277            3.10m\n",
      "        17           1.0005            3.01m\n",
      "        18           0.9722            2.92m\n",
      "        19           0.9480            2.83m\n",
      "        20           0.9252            2.74m\n",
      "        21           0.9005            2.65m\n",
      "        22           0.8801            2.55m\n",
      "        23           0.8603            2.46m\n",
      "        24           0.8386            2.37m\n",
      "        25           0.8193            2.28m\n",
      "        26           0.8031            2.19m\n",
      "        27           0.7867            2.10m\n",
      "        28           0.7715            2.00m\n",
      "        29           0.7549            1.91m\n",
      "        30           0.7410            1.82m\n",
      "        31           0.7267            1.73m\n",
      "        32           0.7126            1.64m\n",
      "        33           0.7008            1.55m\n",
      "        34           0.6883            1.46m\n",
      "        35           0.6763            1.37m\n",
      "        36           0.6645            1.28m\n",
      "        37           0.6530            1.19m\n",
      "        38           0.6417            1.10m\n",
      "        39           0.6324            1.00m\n",
      "        40           0.6230           54.80s\n",
      "        41           0.6135           49.28s\n",
      "        42           0.6048           43.81s\n",
      "        43           0.5959           38.36s\n",
      "        44           0.5883           32.93s\n",
      "        45           0.5800           27.46s\n",
      "        46           0.5718           21.98s\n",
      "        47           0.5650           16.49s\n",
      "        48           0.5563           11.00s\n",
      "        49           0.5471            5.50s\n",
      "        50           0.5400            0.00s\n",
      "accuracy: 0.7425650557620818\n"
     ]
    }
   ],
   "source": [
    "import nltk\n",
    "nltk.download('wordnet')\n",
    "from nltk.stem import WordNetLemmatizer\n",
    "lemmatizer = WordNetLemmatizer()\n",
    "class LemmedCountVectorizer(CountVectorizer):\n",
    "    def build_analyzer(self):\n",
    "        analyzer = super(LemmedCountVectorizer, self).build_analyzer()\n",
    "        return lambda doc: ([lemmatizer.lemmatize(w).lower() for w in analyzer(doc)])\n",
    "    \n",
    "lemmed_count_vect = LemmedCountVectorizer(stop_words='english')\n",
    "\n",
    "text_bgc_stemmed = Pipeline([('vect', lemmed_count_vect), ('tfidf', TfidfTransformer()), \n",
    "                             ('bgc', GradientBoostingClassifier(n_estimators=50,verbose=2))])\n",
    "\n",
    "text_bgc_stemmed = text_bgc_stemmed.fit(train.data, train.target)\n",
    "\n",
    "predicted_bgc_stemmed = text_bgc_stemmed.predict(test.data)\n",
    "print(\"accuracy:\",accuracy_score(test.target,predicted_bgc_stemmed))"
   ]
  },
  {
   "cell_type": "code",
   "execution_count": null,
   "id": "protected-banana",
   "metadata": {},
   "outputs": [],
   "source": []
  }
 ],
 "metadata": {
  "kernelspec": {
   "display_name": "Python 3",
   "language": "python",
   "name": "python3"
  },
  "language_info": {
   "codemirror_mode": {
    "name": "ipython",
    "version": 3
   },
   "file_extension": ".py",
   "mimetype": "text/x-python",
   "name": "python",
   "nbconvert_exporter": "python",
   "pygments_lexer": "ipython3",
   "version": "3.8.5"
  }
 },
 "nbformat": 4,
 "nbformat_minor": 5
}
