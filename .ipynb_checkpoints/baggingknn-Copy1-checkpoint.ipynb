{
 "cells": [
  {
   "cell_type": "code",
   "execution_count": 1,
   "id": "northern-armstrong",
   "metadata": {},
   "outputs": [
    {
     "data": {
      "text/plain": [
       "['alt.atheism',\n",
       " 'comp.graphics',\n",
       " 'comp.os.ms-windows.misc',\n",
       " 'comp.sys.ibm.pc.hardware',\n",
       " 'comp.sys.mac.hardware',\n",
       " 'comp.windows.x',\n",
       " 'misc.forsale',\n",
       " 'rec.autos',\n",
       " 'rec.motorcycles',\n",
       " 'rec.sport.baseball',\n",
       " 'rec.sport.hockey',\n",
       " 'sci.crypt',\n",
       " 'sci.electronics',\n",
       " 'sci.med',\n",
       " 'sci.space',\n",
       " 'soc.religion.christian',\n",
       " 'talk.politics.guns',\n",
       " 'talk.politics.mideast',\n",
       " 'talk.politics.misc',\n",
       " 'talk.religion.misc']"
      ]
     },
     "execution_count": 1,
     "metadata": {},
     "output_type": "execute_result"
    }
   ],
   "source": [
    "import numpy as np\n",
    "import pandas as pd\n",
    "import matplotlib.pyplot as plt\n",
    "import seaborn as sns; sns.set()\n",
    "from sklearn.datasets import fetch_20newsgroups\n",
    "data=fetch_20newsgroups()\n",
    "data.target_names"
   ]
  },
  {
   "cell_type": "code",
   "execution_count": 2,
   "id": "optical-eagle",
   "metadata": {},
   "outputs": [],
   "source": [
    "train=fetch_20newsgroups(subset='train',categories=data.target_names)\n",
    "test=fetch_20newsgroups(subset='test',categories=data.target_names)"
   ]
  },
  {
   "cell_type": "code",
   "execution_count": 3,
   "id": "cubic-trinity",
   "metadata": {},
   "outputs": [
    {
     "name": "stdout",
     "output_type": "stream",
     "text": [
      "11314\n"
     ]
    }
   ],
   "source": [
    "print(len(train.data))"
   ]
  },
  {
   "cell_type": "code",
   "execution_count": 4,
   "id": "weekly-appliance",
   "metadata": {},
   "outputs": [
    {
     "data": {
      "text/plain": [
       "(11314, 130107)"
      ]
     },
     "execution_count": 4,
     "metadata": {},
     "output_type": "execute_result"
    }
   ],
   "source": [
    "from sklearn.feature_extraction.text import CountVectorizer\n",
    "vector=CountVectorizer()\n",
    "X_train=vector.fit_transform(train.data)\n",
    "X_train.shape\n"
   ]
  },
  {
   "cell_type": "code",
   "execution_count": 5,
   "id": "skilled-sleeve",
   "metadata": {},
   "outputs": [
    {
     "data": {
      "text/plain": [
       "(11314, 130107)"
      ]
     },
     "execution_count": 5,
     "metadata": {},
     "output_type": "execute_result"
    }
   ],
   "source": [
    "from sklearn.feature_extraction.text import TfidfTransformer\n",
    "vectorizer=TfidfTransformer()\n",
    "X_train_tfidf=vectorizer.fit_transform(X_train)\n",
    "X_train_tfidf.shape\n"
   ]
  },
  {
   "cell_type": "code",
   "execution_count": 6,
   "id": "greenhouse-request",
   "metadata": {},
   "outputs": [],
   "source": [
    "from sklearn.ensemble import BaggingClassifier\n",
    "from sklearn.neighbors import KNeighborsClassifier\n",
    "clf=BaggingClassifier(KNeighborsClassifier()).fit(X_train_tfidf,train.target)"
   ]
  },
  {
   "cell_type": "code",
   "execution_count": 7,
   "id": "covered-daughter",
   "metadata": {},
   "outputs": [],
   "source": [
    "X_test=vector.transform(test.data)\n",
    "X_test_tfidf=vectorizer.transform(X_test)\n",
    "predicted= clf.predict(X_test_tfidf)"
   ]
  },
  {
   "cell_type": "code",
   "execution_count": 10,
   "id": "supported-touch",
   "metadata": {},
   "outputs": [
    {
     "name": "stdout",
     "output_type": "stream",
     "text": [
      "accuracy: 0.6682156133828996\n",
      "confusion matrix: [ 7  5  0 ...  9  6 15] [12 11  0 ... 10 19 15]\n",
      "                          precision    recall  f1-score   support\n",
      "\n",
      "             alt.atheism       0.55      0.72      0.62       319\n",
      "           comp.graphics       0.61      0.54      0.58       389\n",
      " comp.os.ms-windows.misc       0.63      0.57      0.60       394\n",
      "comp.sys.ibm.pc.hardware       0.60      0.58      0.59       392\n",
      "   comp.sys.mac.hardware       0.63      0.55      0.59       385\n",
      "          comp.windows.x       0.70      0.63      0.67       395\n",
      "            misc.forsale       0.58      0.48      0.53       390\n",
      "               rec.autos       0.75      0.70      0.72       396\n",
      "         rec.motorcycles       0.84      0.83      0.83       398\n",
      "      rec.sport.baseball       0.72      0.72      0.72       397\n",
      "        rec.sport.hockey       0.81      0.86      0.84       399\n",
      "               sci.crypt       0.70      0.86      0.77       396\n",
      "         sci.electronics       0.65      0.52      0.57       393\n",
      "                 sci.med       0.81      0.53      0.64       396\n",
      "               sci.space       0.78      0.78      0.78       394\n",
      "  soc.religion.christian       0.71      0.78      0.74       398\n",
      "      talk.politics.guns       0.65      0.73      0.69       364\n",
      "   talk.politics.mideast       0.58      0.79      0.67       376\n",
      "      talk.politics.misc       0.51      0.62      0.56       310\n",
      "      talk.religion.misc       0.54      0.55      0.54       251\n",
      "\n",
      "                accuracy                           0.67      7532\n",
      "               macro avg       0.67      0.67      0.66      7532\n",
      "            weighted avg       0.67      0.67      0.67      7532\n",
      "\n"
     ]
    }
   ],
   "source": [
    "from sklearn import metrics\n",
    "from sklearn.metrics import accuracy_score,confusion_matrix,classification_report\n",
    "print(\"accuracy:\",accuracy_score(test.target,predicted))\n",
    "print(\"confusion matrix:\",test.target,predicted)\n",
    "print(classification_report(test.target,predicted,target_names=test.target_names))"
   ]
  },
  {
   "cell_type": "code",
   "execution_count": null,
   "id": "operational-theology",
   "metadata": {},
   "outputs": [],
   "source": []
  },
  {
   "cell_type": "code",
   "execution_count": null,
   "id": "developmental-submission",
   "metadata": {},
   "outputs": [],
   "source": []
  },
  {
   "cell_type": "code",
   "execution_count": null,
   "id": "protected-banana",
   "metadata": {},
   "outputs": [],
   "source": []
  }
 ],
 "metadata": {
  "kernelspec": {
   "display_name": "Python 3",
   "language": "python",
   "name": "python3"
  },
  "language_info": {
   "codemirror_mode": {
    "name": "ipython",
    "version": 3
   },
   "file_extension": ".py",
   "mimetype": "text/x-python",
   "name": "python",
   "nbconvert_exporter": "python",
   "pygments_lexer": "ipython3",
   "version": "3.8.5"
  }
 },
 "nbformat": 4,
 "nbformat_minor": 5
}
