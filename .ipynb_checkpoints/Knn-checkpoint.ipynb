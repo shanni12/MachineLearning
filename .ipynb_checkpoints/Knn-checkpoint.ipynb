{
 "cells": [
  {
   "cell_type": "code",
   "execution_count": 1,
   "metadata": {},
   "outputs": [
    {
     "data": {
      "text/plain": [
       "['alt.atheism',\n",
       " 'comp.graphics',\n",
       " 'comp.os.ms-windows.misc',\n",
       " 'comp.sys.ibm.pc.hardware',\n",
       " 'comp.sys.mac.hardware',\n",
       " 'comp.windows.x',\n",
       " 'misc.forsale',\n",
       " 'rec.autos',\n",
       " 'rec.motorcycles',\n",
       " 'rec.sport.baseball',\n",
       " 'rec.sport.hockey',\n",
       " 'sci.crypt',\n",
       " 'sci.electronics',\n",
       " 'sci.med',\n",
       " 'sci.space',\n",
       " 'soc.religion.christian',\n",
       " 'talk.politics.guns',\n",
       " 'talk.politics.mideast',\n",
       " 'talk.politics.misc',\n",
       " 'talk.religion.misc']"
      ]
     },
     "execution_count": 1,
     "metadata": {},
     "output_type": "execute_result"
    }
   ],
   "source": [
    "import numpy as np\n",
    "import pandas as pd\n",
    "import matplotlib.pyplot as plt\n",
    "import seaborn as sns; sns.set()\n",
    "from sklearn.datasets import fetch_20newsgroups\n",
    "data=fetch_20newsgroups()\n",
    "data.target_names"
   ]
  },
  {
   "cell_type": "code",
   "execution_count": 2,
   "metadata": {},
   "outputs": [],
   "source": [
    "train=fetch_20newsgroups(subset='train',categories=data.target_names)\n",
    "test=fetch_20newsgroups(subset='test',categories=data.target_names)"
   ]
  },
  {
   "cell_type": "code",
   "execution_count": 3,
   "metadata": {},
   "outputs": [
    {
     "data": {
      "text/plain": [
       "(11314, 130107)"
      ]
     },
     "execution_count": 3,
     "metadata": {},
     "output_type": "execute_result"
    }
   ],
   "source": [
    "from sklearn.feature_extraction.text import CountVectorizer\n",
    "vector=CountVectorizer()\n",
    "X_train=vector.fit_transform(train.data)\n",
    "X_train.shape"
   ]
  },
  {
   "cell_type": "code",
   "execution_count": 17,
   "metadata": {},
   "outputs": [],
   "source": [
    "from sklearn.feature_extraction.text import TfidfTransformer\n",
    "vectorizer=TfidfTransformer()\n",
    "X_train_tfidf=vectorizer.fit_transform(X_train)\n",
    "X_train_tfidf.shape\n",
    "X_test=vector.transform(test.data)\n",
    "X_test_tfidf=vectorizer.transform(X_test)\n"
   ]
  },
  {
   "cell_type": "code",
   "execution_count": 42,
   "metadata": {},
   "outputs": [
    {
     "data": {
      "text/plain": [
       "KNeighborsClassifier(algorithm='auto', leaf_size=30, metric='minkowski',\n",
       "                     metric_params=None, n_jobs=None, n_neighbors=5, p=2,\n",
       "                     weights='uniform')"
      ]
     },
     "execution_count": 42,
     "metadata": {},
     "output_type": "execute_result"
    }
   ],
   "source": [
    "from sklearn.neighbors import KNeighborsClassifier\n",
    "lr_model=KNeighborsClassifier(n_neighbors=5)\n",
    "lr_model.fit(X_train_tfidf,train.target)"
   ]
  },
  {
   "cell_type": "code",
   "execution_count": 43,
   "metadata": {},
   "outputs": [],
   "source": [
    "X_test=vector.transform(test.data)\n",
    "X_test_tfidf=vectorizer.transform(X_test)\n",
    "predicted= lr_model.predict(X_test_tfidf)"
   ]
  },
  {
   "cell_type": "code",
   "execution_count": 44,
   "metadata": {},
   "outputs": [
    {
     "name": "stdout",
     "output_type": "stream",
     "text": [
      "accuracy: 0.6591874668082847\n"
     ]
    }
   ],
   "source": [
    "from sklearn import metrics\n",
    "from sklearn.metrics import accuracy_score,confusion_matrix,classification_report\n",
    "print(\"accuracy:\",accuracy_score(test.target,predicted))\n"
   ]
  },
  {
   "cell_type": "code",
   "execution_count": 45,
   "metadata": {},
   "outputs": [
    {
     "name": "stdout",
     "output_type": "stream",
     "text": [
      "confusion matrix: [ 7  5  0 ...  9  6 15] [12 11  0 ...  2 19 15]\n"
     ]
    }
   ],
   "source": [
    "print(\"confusion matrix:\",test.target,predicted)"
   ]
  },
  {
   "cell_type": "code",
   "execution_count": 46,
   "metadata": {},
   "outputs": [
    {
     "name": "stdout",
     "output_type": "stream",
     "text": [
      "                          precision    recall  f1-score   support\n",
      "\n",
      "             alt.atheism       0.43      0.76      0.55       319\n",
      "           comp.graphics       0.50      0.61      0.55       389\n",
      " comp.os.ms-windows.misc       0.56      0.57      0.57       394\n",
      "comp.sys.ibm.pc.hardware       0.53      0.58      0.56       392\n",
      "   comp.sys.mac.hardware       0.59      0.56      0.57       385\n",
      "          comp.windows.x       0.69      0.60      0.64       395\n",
      "            misc.forsale       0.58      0.45      0.51       390\n",
      "               rec.autos       0.75      0.69      0.72       396\n",
      "         rec.motorcycles       0.84      0.81      0.82       398\n",
      "      rec.sport.baseball       0.77      0.72      0.74       397\n",
      "        rec.sport.hockey       0.85      0.84      0.84       399\n",
      "               sci.crypt       0.76      0.84      0.80       396\n",
      "         sci.electronics       0.70      0.50      0.58       393\n",
      "                 sci.med       0.82      0.49      0.62       396\n",
      "               sci.space       0.79      0.76      0.78       394\n",
      "  soc.religion.christian       0.75      0.76      0.76       398\n",
      "      talk.politics.guns       0.70      0.73      0.72       364\n",
      "   talk.politics.mideast       0.62      0.76      0.69       376\n",
      "      talk.politics.misc       0.55      0.61      0.58       310\n",
      "      talk.religion.misc       0.56      0.49      0.52       251\n",
      "\n",
      "                accuracy                           0.66      7532\n",
      "               macro avg       0.67      0.66      0.65      7532\n",
      "            weighted avg       0.67      0.66      0.66      7532\n",
      "\n"
     ]
    }
   ],
   "source": [
    "print(classification_report(test.target,predicted,target_names=test.target_names))"
   ]
  },
  {
   "cell_type": "code",
   "execution_count": null,
   "metadata": {},
   "outputs": [],
   "source": []
  }
 ],
 "metadata": {
  "kernelspec": {
   "display_name": "Python 3",
   "language": "python",
   "name": "python3"
  },
  "language_info": {
   "codemirror_mode": {
    "name": "ipython",
    "version": 3
   },
   "file_extension": ".py",
   "mimetype": "text/x-python",
   "name": "python",
   "nbconvert_exporter": "python",
   "pygments_lexer": "ipython3",
   "version": "3.8.5"
  }
 },
 "nbformat": 4,
 "nbformat_minor": 4
}
