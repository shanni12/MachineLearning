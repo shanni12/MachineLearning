{
 "cells": [
  {
   "cell_type": "code",
   "execution_count": 1,
   "metadata": {},
   "outputs": [
    {
     "data": {
      "text/plain": [
       "['alt.atheism',\n",
       " 'comp.graphics',\n",
       " 'comp.os.ms-windows.misc',\n",
       " 'comp.sys.ibm.pc.hardware',\n",
       " 'comp.sys.mac.hardware',\n",
       " 'comp.windows.x',\n",
       " 'misc.forsale',\n",
       " 'rec.autos',\n",
       " 'rec.motorcycles',\n",
       " 'rec.sport.baseball',\n",
       " 'rec.sport.hockey',\n",
       " 'sci.crypt',\n",
       " 'sci.electronics',\n",
       " 'sci.med',\n",
       " 'sci.space',\n",
       " 'soc.religion.christian',\n",
       " 'talk.politics.guns',\n",
       " 'talk.politics.mideast',\n",
       " 'talk.politics.misc',\n",
       " 'talk.religion.misc']"
      ]
     },
     "execution_count": 1,
     "metadata": {},
     "output_type": "execute_result"
    }
   ],
   "source": [
    "import numpy as np\n",
    "import pandas as pd\n",
    "import matplotlib.pyplot as plt\n",
    "import seaborn as sns; sns.set()\n",
    "from sklearn.datasets import fetch_20newsgroups\n",
    "data=fetch_20newsgroups()\n",
    "data.target_names"
   ]
  },
  {
   "cell_type": "code",
   "execution_count": 2,
   "metadata": {},
   "outputs": [],
   "source": [
    "train=fetch_20newsgroups(subset='train',categories=data.target_names)\n",
    "test=fetch_20newsgroups(subset='test',categories=data.target_names)"
   ]
  },
  {
   "cell_type": "code",
   "execution_count": 3,
   "metadata": {},
   "outputs": [
    {
     "data": {
      "text/plain": [
       "(11314, 130107)"
      ]
     },
     "execution_count": 3,
     "metadata": {},
     "output_type": "execute_result"
    }
   ],
   "source": [
    "from sklearn.feature_extraction.text import CountVectorizer\n",
    "vector=CountVectorizer()\n",
    "X_train=vector.fit_transform(train.data)\n",
    "X_train.shape"
   ]
  },
  {
   "cell_type": "code",
   "execution_count": 4,
   "metadata": {},
   "outputs": [],
   "source": [
    "from sklearn.feature_extraction.text import TfidfTransformer\n",
    "vectorizer=TfidfTransformer()\n",
    "X_train_tfidf=vectorizer.fit_transform(X_train)\n",
    "X_train_tfidf.shape\n",
    "X_test=vector.transform(test.data)\n",
    "X_test_tfidf=vectorizer.transform(X_test)\n"
   ]
  },
  {
   "cell_type": "code",
   "execution_count": 5,
   "metadata": {},
   "outputs": [],
   "source": [
    "from sklearn.tree import DecisionTreeClassifier\n",
    "lr_model= DecisionTreeClassifier()\n",
    "lr_model=lr_model.fit(X_train_tfidf,train.target)"
   ]
  },
  {
   "cell_type": "code",
   "execution_count": 11,
   "metadata": {},
   "outputs": [],
   "source": [
    "X_test=vector.transform(test.data)\n",
    "X_test_tfidf=vectorizer.transform(X_test)\n",
    "predicted= lr_model.predict(X_test_tfidf)"
   ]
  },
  {
   "cell_type": "code",
   "execution_count": 12,
   "metadata": {},
   "outputs": [
    {
     "name": "stdout",
     "output_type": "stream",
     "text": [
      "accuracy: 0.5484599044078597\n"
     ]
    }
   ],
   "source": [
    "from sklearn import metrics\n",
    "from sklearn.metrics import accuracy_score,confusion_matrix,classification_report\n",
    "print(\"accuracy:\",accuracy_score(test.target,predicted))\n"
   ]
  },
  {
   "cell_type": "code",
   "execution_count": 13,
   "metadata": {},
   "outputs": [
    {
     "name": "stdout",
     "output_type": "stream",
     "text": [
      "confusion matrix: [ 7  5  0 ...  9  6 15] [ 4 12  0 ...  4 12 15]\n"
     ]
    }
   ],
   "source": [
    "print(\"confusion matrix:\",test.target,predicted)"
   ]
  },
  {
   "cell_type": "code",
   "execution_count": 14,
   "metadata": {},
   "outputs": [
    {
     "name": "stdout",
     "output_type": "stream",
     "text": [
      "                          precision    recall  f1-score   support\n",
      "\n",
      "             alt.atheism       0.48      0.48      0.48       319\n",
      "           comp.graphics       0.40      0.43      0.42       389\n",
      " comp.os.ms-windows.misc       0.51      0.55      0.53       394\n",
      "comp.sys.ibm.pc.hardware       0.44      0.41      0.42       392\n",
      "   comp.sys.mac.hardware       0.51      0.56      0.53       385\n",
      "          comp.windows.x       0.48      0.46      0.47       395\n",
      "            misc.forsale       0.67      0.73      0.70       390\n",
      "               rec.autos       0.60      0.59      0.59       396\n",
      "         rec.motorcycles       0.67      0.74      0.71       398\n",
      "      rec.sport.baseball       0.52      0.55      0.53       397\n",
      "        rec.sport.hockey       0.65      0.64      0.65       399\n",
      "               sci.crypt       0.78      0.70      0.74       396\n",
      "         sci.electronics       0.37      0.35      0.36       393\n",
      "                 sci.med       0.53      0.44      0.48       396\n",
      "               sci.space       0.67      0.64      0.65       394\n",
      "  soc.religion.christian       0.68      0.70      0.69       398\n",
      "      talk.politics.guns       0.50      0.60      0.54       364\n",
      "   talk.politics.mideast       0.76      0.59      0.66       376\n",
      "      talk.politics.misc       0.38      0.38      0.38       310\n",
      "      talk.religion.misc       0.30      0.31      0.30       251\n",
      "\n",
      "                accuracy                           0.55      7532\n",
      "               macro avg       0.54      0.54      0.54      7532\n",
      "            weighted avg       0.55      0.55      0.55      7532\n",
      "\n"
     ]
    }
   ],
   "source": [
    "print(classification_report(test.target,predicted,target_names=test.target_names))"
   ]
  },
  {
   "cell_type": "code",
   "execution_count": null,
   "metadata": {},
   "outputs": [],
   "source": []
  }
 ],
 "metadata": {
  "kernelspec": {
   "display_name": "Python 3",
   "language": "python",
   "name": "python3"
  },
  "language_info": {
   "codemirror_mode": {
    "name": "ipython",
    "version": 3
   },
   "file_extension": ".py",
   "mimetype": "text/x-python",
   "name": "python",
   "nbconvert_exporter": "python",
   "pygments_lexer": "ipython3",
   "version": "3.8.5"
  }
 },
 "nbformat": 4,
 "nbformat_minor": 4
}
