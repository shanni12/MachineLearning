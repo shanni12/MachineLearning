{
 "cells": [
  {
   "cell_type": "code",
   "execution_count": 13,
   "metadata": {},
   "outputs": [
    {
     "data": {
      "text/plain": [
       "['alt.atheism',\n",
       " 'comp.graphics',\n",
       " 'comp.os.ms-windows.misc',\n",
       " 'comp.sys.ibm.pc.hardware',\n",
       " 'comp.sys.mac.hardware',\n",
       " 'comp.windows.x',\n",
       " 'misc.forsale',\n",
       " 'rec.autos',\n",
       " 'rec.motorcycles',\n",
       " 'rec.sport.baseball',\n",
       " 'rec.sport.hockey',\n",
       " 'sci.crypt',\n",
       " 'sci.electronics',\n",
       " 'sci.med',\n",
       " 'sci.space',\n",
       " 'soc.religion.christian',\n",
       " 'talk.politics.guns',\n",
       " 'talk.politics.mideast',\n",
       " 'talk.politics.misc',\n",
       " 'talk.religion.misc']"
      ]
     },
     "execution_count": 13,
     "metadata": {},
     "output_type": "execute_result"
    }
   ],
   "source": [
    "import numpy as np\n",
    "import pandas as pd\n",
    "import matplotlib.pyplot as plt\n",
    "import seaborn as sns; sns.set()\n",
    "from sklearn.datasets import fetch_20newsgroups\n",
    "data=fetch_20newsgroups()\n",
    "data.target_names"
   ]
  },
  {
   "cell_type": "code",
   "execution_count": 14,
   "metadata": {},
   "outputs": [],
   "source": [
    "train=fetch_20newsgroups(subset='train',categories=data.target_names)\n",
    "test=fetch_20newsgroups(subset='test',categories=data.target_names)"
   ]
  },
  {
   "cell_type": "code",
   "execution_count": 15,
   "metadata": {},
   "outputs": [
    {
     "data": {
      "text/plain": [
       "(11314, 130107)"
      ]
     },
     "execution_count": 15,
     "metadata": {},
     "output_type": "execute_result"
    }
   ],
   "source": [
    "from sklearn.feature_extraction.text import CountVectorizer\n",
    "vector=CountVectorizer()\n",
    "X_train=vector.fit_transform(train.data)\n",
    "X_train.shape"
   ]
  },
  {
   "cell_type": "code",
   "execution_count": 16,
   "metadata": {},
   "outputs": [],
   "source": [
    "from sklearn.feature_extraction.text import TfidfTransformer\n",
    "vectorizer=TfidfTransformer()\n",
    "X_train_tfidf=vectorizer.fit_transform(X_train)\n",
    "X_train_tfidf.shape\n",
    "X_test=vector.transform(test.data)\n",
    "X_test_tfidf=vectorizer.transform(X_test)\n"
   ]
  },
  {
   "cell_type": "code",
   "execution_count": 17,
   "metadata": {},
   "outputs": [],
   "source": [
    "from sklearn.tree import DecisionTreeClassifier\n",
    "lr_model= DecisionTreeClassifier()\n",
    "lr_model=lr_model.fit(X_train_tfidf,train.target)"
   ]
  },
  {
   "cell_type": "code",
   "execution_count": 18,
   "metadata": {},
   "outputs": [],
   "source": [
    "X_test=vector.transform(test.data)\n",
    "X_test_tfidf=vectorizer.transform(X_test)\n",
    "predicted= lr_model.predict(X_test_tfidf)"
   ]
  },
  {
   "cell_type": "code",
   "execution_count": 19,
   "metadata": {},
   "outputs": [
    {
     "name": "stdout",
     "output_type": "stream",
     "text": [
      "accuracy: 0.550185873605948\n"
     ]
    }
   ],
   "source": [
    "from sklearn import metrics\n",
    "from sklearn.metrics import accuracy_score,confusion_matrix,classification_report\n",
    "print(\"accuracy:\",accuracy_score(test.target,predicted))\n"
   ]
  },
  {
   "cell_type": "code",
   "execution_count": 20,
   "metadata": {},
   "outputs": [
    {
     "name": "stdout",
     "output_type": "stream",
     "text": [
      "confusion matrix: [ 7  5  0 ...  9  6 15] [ 3 12 15 ...  0 12 15]\n"
     ]
    }
   ],
   "source": [
    "print(\"confusion matrix:\",test.target,predicted)"
   ]
  },
  {
   "cell_type": "code",
   "execution_count": 21,
   "metadata": {},
   "outputs": [
    {
     "name": "stdout",
     "output_type": "stream",
     "text": [
      "                          precision    recall  f1-score   support\n",
      "\n",
      "             alt.atheism       0.49      0.47      0.48       319\n",
      "           comp.graphics       0.42      0.42      0.42       389\n",
      " comp.os.ms-windows.misc       0.51      0.57      0.54       394\n",
      "comp.sys.ibm.pc.hardware       0.43      0.40      0.42       392\n",
      "   comp.sys.mac.hardware       0.54      0.58      0.56       385\n",
      "          comp.windows.x       0.47      0.48      0.48       395\n",
      "            misc.forsale       0.62      0.72      0.67       390\n",
      "               rec.autos       0.66      0.59      0.62       396\n",
      "         rec.motorcycles       0.73      0.75      0.74       398\n",
      "      rec.sport.baseball       0.55      0.55      0.55       397\n",
      "        rec.sport.hockey       0.66      0.66      0.66       399\n",
      "               sci.crypt       0.76      0.69      0.72       396\n",
      "         sci.electronics       0.32      0.32      0.32       393\n",
      "                 sci.med       0.50      0.43      0.46       396\n",
      "               sci.space       0.64      0.62      0.63       394\n",
      "  soc.religion.christian       0.70      0.71      0.71       398\n",
      "      talk.politics.guns       0.50      0.61      0.55       364\n",
      "   talk.politics.mideast       0.78      0.59      0.67       376\n",
      "      talk.politics.misc       0.38      0.39      0.39       310\n",
      "      talk.religion.misc       0.27      0.31      0.29       251\n",
      "\n",
      "                accuracy                           0.55      7532\n",
      "               macro avg       0.55      0.54      0.54      7532\n",
      "            weighted avg       0.56      0.55      0.55      7532\n",
      "\n"
     ]
    }
   ],
   "source": [
    "print(classification_report(test.target,predicted,target_names=test.target_names))"
   ]
  },
  {
   "cell_type": "code",
   "execution_count": 22,
   "metadata": {},
   "outputs": [
    {
     "name": "stderr",
     "output_type": "stream",
     "text": [
      "[nltk_data] Downloading package stopwords to /home/shanni/nltk_data...\n",
      "[nltk_data]   Package stopwords is already up-to-date!\n"
     ]
    },
    {
     "name": "stdout",
     "output_type": "stream",
     "text": [
      "accuracy: 0.5730217737652682\n"
     ]
    }
   ],
   "source": [
    "import nltk\n",
    "nltk.download('stopwords')\n",
    "from sklearn.pipeline import Pipeline\n",
    "from nltk.stem.snowball import SnowballStemmer\n",
    "stemmer = SnowballStemmer(\"english\", ignore_stopwords=True)\n",
    "\n",
    "class StemmedCountVectorizer(CountVectorizer):\n",
    "    def build_analyzer(self):\n",
    "        analyzer = super(StemmedCountVectorizer, self).build_analyzer()\n",
    "        return lambda doc: ([stemmer.stem(w).lower() for w in analyzer(doc)])\n",
    "    \n",
    "stemmed_count_vect = StemmedCountVectorizer(stop_words='english')\n",
    "\n",
    "text_dtc_stemmed = Pipeline([('vect', stemmed_count_vect), ('tfidf', TfidfTransformer()), \n",
    "                             ('svc',DecisionTreeClassifier())])\n",
    "\n",
    "text_dtc_stemmed = text_dtc_stemmed.fit(train.data, train.target)\n",
    "\n",
    "predicted_dtc_stemmed = text_dtc_stemmed.predict(test.data)\n",
    "print(\"accuracy:\",accuracy_score(test.target,predicted_dtc_stemmed))"
   ]
  },
  {
   "cell_type": "code",
   "execution_count": 23,
   "metadata": {},
   "outputs": [
    {
     "name": "stderr",
     "output_type": "stream",
     "text": [
      "[nltk_data] Downloading package wordnet to /home/shanni/nltk_data...\n",
      "[nltk_data]   Package wordnet is already up-to-date!\n"
     ]
    },
    {
     "name": "stdout",
     "output_type": "stream",
     "text": [
      "accuracy: 0.5654540626659585\n"
     ]
    }
   ],
   "source": [
    "import nltk\n",
    "nltk.download('wordnet')\n",
    "from nltk.stem import WordNetLemmatizer\n",
    "lemmatizer = WordNetLemmatizer()\n",
    "class LemmedCountVectorizer(CountVectorizer):\n",
    "    def build_analyzer(self):\n",
    "        analyzer = super(LemmedCountVectorizer, self).build_analyzer()\n",
    "        return lambda doc: ([lemmatizer.lemmatize(w).lower() for w in analyzer(doc)])\n",
    "    \n",
    "lemmed_count_vect = LemmedCountVectorizer(stop_words='english')\n",
    "\n",
    "text_dtc_stemmed = Pipeline([('vect', lemmed_count_vect), ('tfidf', TfidfTransformer()), \n",
    "                             ('svc', DecisionTreeClassifier())])\n",
    "\n",
    "text_dtc_stemmed = text_dtc_stemmed.fit(train.data, train.target)\n",
    "\n",
    "predicted_dtc_stemmed = text_dtc_stemmed.predict(test.data)\n",
    "print(\"accuracy:\",accuracy_score(test.target,predicted_dtc_stemmed))"
   ]
  },
  {
   "cell_type": "code",
   "execution_count": null,
   "metadata": {},
   "outputs": [],
   "source": []
  }
 ],
 "metadata": {
  "kernelspec": {
   "display_name": "Python 3",
   "language": "python",
   "name": "python3"
  },
  "language_info": {
   "codemirror_mode": {
    "name": "ipython",
    "version": 3
   },
   "file_extension": ".py",
   "mimetype": "text/x-python",
   "name": "python",
   "nbconvert_exporter": "python",
   "pygments_lexer": "ipython3",
   "version": "3.8.5"
  }
 },
 "nbformat": 4,
 "nbformat_minor": 4
}
